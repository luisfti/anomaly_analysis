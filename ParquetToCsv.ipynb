{
 "cells": [
  {
   "cell_type": "code",
   "execution_count": 68,
   "id": "443884e0",
   "metadata": {},
   "outputs": [],
   "source": [
    "import pandas as pd"
   ]
  },
  {
   "cell_type": "code",
   "execution_count": 69,
   "id": "a92af152",
   "metadata": {},
   "outputs": [],
   "source": [
    "parquet_file_order = \"/Users/Luis1/Projetos/Detection/datasets/parquet/btc_orderbook_df.parquet\"\n",
    "parquet_file_trade = \"/Users/Luis1/Projetos/Detection/datasets/parquet/btc_trades_df.parquet\"\n",
    "\n",
    "dfo = pd.read_parquet(parquet_file_order, engine='pyarrow')\n",
    "dft = pd.read_parquet(parquet_file_trade, engine='pyarrow')"
   ]
  },
  {
   "cell_type": "code",
   "execution_count": 70,
   "id": "1dfdb1ac",
   "metadata": {
    "scrolled": true
   },
   "outputs": [],
   "source": [
    "csv_output_order = \"/Users/Luis1/Projetos/Detection/datasets/csv/btc_orderbook_df.csv\"\n",
    "csv_output_trade = \"/Users/Luis1/Projetos/Detection/datasets/csv/btc_trades_df.csv\""
   ]
  },
  {
   "cell_type": "code",
   "execution_count": 71,
   "id": "c28842b9",
   "metadata": {
    "scrolled": true
   },
   "outputs": [],
   "source": [
    "dfo.to_csv(csv_output_order, index= False)\n",
    "dft.to_csv(csv_output_trade, index= False)"
   ]
  },
  {
   "cell_type": "code",
   "execution_count": 72,
   "id": "6cd5651f",
   "metadata": {},
   "outputs": [
    {
     "data": {
      "text/html": [
       "<div>\n",
       "<style scoped>\n",
       "    .dataframe tbody tr th:only-of-type {\n",
       "        vertical-align: middle;\n",
       "    }\n",
       "\n",
       "    .dataframe tbody tr th {\n",
       "        vertical-align: top;\n",
       "    }\n",
       "\n",
       "    .dataframe thead th {\n",
       "        text-align: right;\n",
       "    }\n",
       "</style>\n",
       "<table border=\"1\" class=\"dataframe\">\n",
       "  <thead>\n",
       "    <tr style=\"text-align: right;\">\n",
       "      <th></th>\n",
       "      <th>price</th>\n",
       "      <th>volume</th>\n",
       "      <th>type</th>\n",
       "    </tr>\n",
       "  </thead>\n",
       "  <tbody>\n",
       "    <tr>\n",
       "      <th>0</th>\n",
       "      <td>207100.00</td>\n",
       "      <td>0.0221</td>\n",
       "      <td>sell</td>\n",
       "    </tr>\n",
       "    <tr>\n",
       "      <th>1</th>\n",
       "      <td>207165.00</td>\n",
       "      <td>0.3280</td>\n",
       "      <td>sell</td>\n",
       "    </tr>\n",
       "    <tr>\n",
       "      <th>2</th>\n",
       "      <td>207273.00</td>\n",
       "      <td>0.3280</td>\n",
       "      <td>sell</td>\n",
       "    </tr>\n",
       "    <tr>\n",
       "      <th>3</th>\n",
       "      <td>207352.00</td>\n",
       "      <td>0.4990</td>\n",
       "      <td>sell</td>\n",
       "    </tr>\n",
       "    <tr>\n",
       "      <th>4</th>\n",
       "      <td>207550.99</td>\n",
       "      <td>0.0170</td>\n",
       "      <td>sell</td>\n",
       "    </tr>\n",
       "  </tbody>\n",
       "</table>\n",
       "</div>"
      ],
      "text/plain": [
       "       price  volume  type\n",
       "0  207100.00  0.0221  sell\n",
       "1  207165.00  0.3280  sell\n",
       "2  207273.00  0.3280  sell\n",
       "3  207352.00  0.4990  sell\n",
       "4  207550.99  0.0170  sell"
      ]
     },
     "execution_count": 72,
     "metadata": {},
     "output_type": "execute_result"
    }
   ],
   "source": [
    "dfo.head(5)"
   ]
  },
  {
   "cell_type": "code",
   "execution_count": 73,
   "id": "d0d9336a",
   "metadata": {},
   "outputs": [
    {
     "data": {
      "text/html": [
       "<div>\n",
       "<style scoped>\n",
       "    .dataframe tbody tr th:only-of-type {\n",
       "        vertical-align: middle;\n",
       "    }\n",
       "\n",
       "    .dataframe tbody tr th {\n",
       "        vertical-align: top;\n",
       "    }\n",
       "\n",
       "    .dataframe thead th {\n",
       "        text-align: right;\n",
       "    }\n",
       "</style>\n",
       "<table border=\"1\" class=\"dataframe\">\n",
       "  <thead>\n",
       "    <tr style=\"text-align: right;\">\n",
       "      <th></th>\n",
       "      <th>date</th>\n",
       "      <th>type</th>\n",
       "      <th>price</th>\n",
       "      <th>amount</th>\n",
       "    </tr>\n",
       "    <tr>\n",
       "      <th>tid</th>\n",
       "      <th></th>\n",
       "      <th></th>\n",
       "      <th></th>\n",
       "      <th></th>\n",
       "    </tr>\n",
       "  </thead>\n",
       "  <tbody>\n",
       "    <tr>\n",
       "      <th>15501957</th>\n",
       "      <td>1696007008</td>\n",
       "      <td>buy</td>\n",
       "      <td>135078.45</td>\n",
       "      <td>0.015500</td>\n",
       "    </tr>\n",
       "    <tr>\n",
       "      <th>15501958</th>\n",
       "      <td>1696007008</td>\n",
       "      <td>buy</td>\n",
       "      <td>135078.45</td>\n",
       "      <td>0.044400</td>\n",
       "    </tr>\n",
       "    <tr>\n",
       "      <th>15501959</th>\n",
       "      <td>1696007008</td>\n",
       "      <td>buy</td>\n",
       "      <td>135083.00</td>\n",
       "      <td>0.159676</td>\n",
       "    </tr>\n",
       "    <tr>\n",
       "      <th>15501960</th>\n",
       "      <td>1696007012</td>\n",
       "      <td>buy</td>\n",
       "      <td>135083.00</td>\n",
       "      <td>0.068600</td>\n",
       "    </tr>\n",
       "    <tr>\n",
       "      <th>15501961</th>\n",
       "      <td>1696007048</td>\n",
       "      <td>buy</td>\n",
       "      <td>135187.00</td>\n",
       "      <td>0.000148</td>\n",
       "    </tr>\n",
       "  </tbody>\n",
       "</table>\n",
       "</div>"
      ],
      "text/plain": [
       "                date type      price    amount\n",
       "tid                                           \n",
       "15501957  1696007008  buy  135078.45  0.015500\n",
       "15501958  1696007008  buy  135078.45  0.044400\n",
       "15501959  1696007008  buy  135083.00  0.159676\n",
       "15501960  1696007012  buy  135083.00  0.068600\n",
       "15501961  1696007048  buy  135187.00  0.000148"
      ]
     },
     "execution_count": 73,
     "metadata": {},
     "output_type": "execute_result"
    }
   ],
   "source": [
    "dft.head(5)"
   ]
  },
  {
   "cell_type": "code",
   "execution_count": null,
   "id": "173e1a0f",
   "metadata": {},
   "outputs": [],
   "source": [
    "dfocsv = pd.read_csv"
   ]
  }
 ],
 "metadata": {
  "kernelspec": {
   "display_name": "Python 3 (ipykernel)",
   "language": "python",
   "name": "python3"
  },
  "language_info": {
   "codemirror_mode": {
    "name": "ipython",
    "version": 3
   },
   "file_extension": ".py",
   "mimetype": "text/x-python",
   "name": "python",
   "nbconvert_exporter": "python",
   "pygments_lexer": "ipython3",
   "version": "3.11.5"
  }
 },
 "nbformat": 4,
 "nbformat_minor": 5
}
